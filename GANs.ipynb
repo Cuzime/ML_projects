{
 "cells": [
  {
   "cell_type": "code",
   "execution_count": 159,
   "metadata": {},
   "outputs": [],
   "source": [
    "import tensorflow as tf\n",
    "import matplotlib.pyplot as plt\n",
    "import numpy as np \n",
    "import pandas as pd\n",
    "from sklearn.model_selection import train_test_split\n",
    "import matplotlib.image as mpimg\n",
    "import random\n",
    "import math\n",
    "\n",
    "from scipy.optimize import minimize \n",
    "from sklearn.metrics import mean_squared_error\n",
    "from scipy.special import softmax\n"
   ]
  },
  {
   "cell_type": "code",
   "execution_count": 160,
   "metadata": {},
   "outputs": [],
   "source": [
    "import tensorflow_datasets as tfds\n",
    "from tensorflow import keras \n",
    "from keras import layers\n",
    "from keras import backend as K"
   ]
  },
  {
   "attachments": {},
   "cell_type": "markdown",
   "metadata": {},
   "source": [
    "## MNIST Dataset"
   ]
  },
  {
   "cell_type": "code",
   "execution_count": 177,
   "metadata": {},
   "outputs": [
    {
     "name": "stdout",
     "output_type": "stream",
     "text": [
      "(70000, 28, 28, 1)\n"
     ]
    }
   ],
   "source": [
    "# Prepare the dataset. We use both the training & test MNIST digits.\n",
    "\n",
    "(x_train, _), (x_test, _) = keras.datasets.mnist.load_data()\n",
    "\n",
    "all_digits = np.concatenate([x_train, x_test])\n",
    "all_digits = all_digits.astype(\"float32\") / 255.0\n",
    "all_digits = np.reshape(all_digits, (-1, 28, 28, 1))\n",
    "\n",
    "print(np.shape(all_digits))\n",
    "\n",
    "batch_size = 128\n",
    "\n",
    "dataset = tf.data.Dataset.from_tensor_slices(all_digits)\n",
    "dataset = dataset.shuffle(buffer_size = 1024).batch(batch_size)"
   ]
  },
  {
   "attachments": {},
   "cell_type": "markdown",
   "metadata": {},
   "source": [
    "## GAN\n",
    "\n",
    "https://keras.io/guides/customizing_what_happens_in_fit/#wrapping-up-an-endtoend-gan-example"
   ]
  },
  {
   "cell_type": "code",
   "execution_count": 250,
   "metadata": {},
   "outputs": [],
   "source": [
    "\"\"\"save weights\"\"\"\n",
    "#gan.save_weights('/Users/andrewgoh/Desktop/ML_Projects/misc/gan_weights', overwrite=True, save_format=None, options=None)"
   ]
  },
  {
   "cell_type": "code",
   "execution_count": 169,
   "metadata": {},
   "outputs": [
    {
     "data": {
      "text/plain": [
       "\"gan.load_weights('/Users/andrewgoh/Desktop/ML_Projects/misc/gan_weights', by_name=False, skip_mismatch=False, options=None)\\n\""
      ]
     },
     "execution_count": 169,
     "metadata": {},
     "output_type": "execute_result"
    }
   ],
   "source": [
    "\"\"\"load weights\"\"\"\n",
    "#gan = GAN(discriminator = discriminator, generator = generator, latent_dim = latent_dim)\n",
    "'''gan.load_weights('/Users/andrewgoh/Desktop/ML_Projects/misc/gan_weights', by_name=False, skip_mismatch=False, options=None)\n",
    "'''\n"
   ]
  },
  {
   "cell_type": "code",
   "execution_count": 246,
   "metadata": {},
   "outputs": [
    {
     "name": "stdout",
     "output_type": "stream",
     "text": [
      "Model: \"discriminator\"\n",
      "_________________________________________________________________\n",
      " Layer (type)                Output Shape              Param #   \n",
      "=================================================================\n",
      " conv2d_137 (Conv2D)         (None, 14, 14, 64)        640       \n",
      "                                                                 \n",
      " batch_normalization_192 (Ba  (None, 14, 14, 64)       256       \n",
      " tchNormalization)                                               \n",
      "                                                                 \n",
      " leaky_re_lu_185 (LeakyReLU)  (None, 14, 14, 64)       0         \n",
      "                                                                 \n",
      " conv2d_138 (Conv2D)         (None, 7, 7, 128)         73856     \n",
      "                                                                 \n",
      " batch_normalization_193 (Ba  (None, 7, 7, 128)        512       \n",
      " tchNormalization)                                               \n",
      "                                                                 \n",
      " leaky_re_lu_186 (LeakyReLU)  (None, 7, 7, 128)        0         \n",
      "                                                                 \n",
      " global_max_pooling2d_31 (Gl  (None, 128)              0         \n",
      " obalMaxPooling2D)                                               \n",
      "                                                                 \n",
      " dense_91 (Dense)            (None, 1)                 129       \n",
      "                                                                 \n",
      "=================================================================\n",
      "Total params: 75,393\n",
      "Trainable params: 75,009\n",
      "Non-trainable params: 384\n",
      "_________________________________________________________________\n",
      "Model: \"generator\"\n",
      "_________________________________________________________________\n",
      " Layer (type)                Output Shape              Param #   \n",
      "=================================================================\n",
      " dense_92 (Dense)            (None, 6272)              809088    \n",
      "                                                                 \n",
      " batch_normalization_194 (Ba  (None, 6272)             25088     \n",
      " tchNormalization)                                               \n",
      "                                                                 \n",
      " leaky_re_lu_187 (LeakyReLU)  (None, 6272)             0         \n",
      "                                                                 \n",
      " reshape_45 (Reshape)        (None, 7, 7, 128)         0         \n",
      "                                                                 \n",
      " conv2d_transpose_90 (Conv2D  (None, 14, 14, 128)      262272    \n",
      " Transpose)                                                      \n",
      "                                                                 \n",
      " batch_normalization_195 (Ba  (None, 14, 14, 128)      512       \n",
      " tchNormalization)                                               \n",
      "                                                                 \n",
      " leaky_re_lu_188 (LeakyReLU)  (None, 14, 14, 128)      0         \n",
      "                                                                 \n",
      " conv2d_transpose_91 (Conv2D  (None, 28, 28, 128)      262272    \n",
      " Transpose)                                                      \n",
      "                                                                 \n",
      " batch_normalization_196 (Ba  (None, 28, 28, 128)      512       \n",
      " tchNormalization)                                               \n",
      "                                                                 \n",
      " leaky_re_lu_189 (LeakyReLU)  (None, 28, 28, 128)      0         \n",
      "                                                                 \n",
      " conv2d_139 (Conv2D)         (None, 28, 28, 1)         6273      \n",
      "                                                                 \n",
      "=================================================================\n",
      "Total params: 1,366,017\n",
      "Trainable params: 1,352,961\n",
      "Non-trainable params: 13,056\n",
      "_________________________________________________________________\n"
     ]
    }
   ],
   "source": [
    "from keras import layers\n",
    "\n",
    "# Create the discriminator\n",
    "discriminator = keras.Sequential(\n",
    "    [\n",
    "        keras.Input(shape = (28, 28, 1)),\n",
    "        layers.Conv2D(64, (3, 3), strides = (2, 2), padding=\"same\"),\n",
    "        layers.BatchNormalization(),\n",
    "        layers.LeakyReLU(alpha = 0.2),\n",
    "\n",
    "        layers.Conv2D(128, (3, 3), strides = (2, 2), padding=\"same\"),\n",
    "        layers.BatchNormalization(),\n",
    "        layers.LeakyReLU(alpha=0.2),\n",
    "        \n",
    "        layers.GlobalMaxPooling2D(),\n",
    "        layers.Dense(1),   \n",
    "    ],\n",
    "    name=\"discriminator\",\n",
    ")\n",
    "\n",
    "discriminator.summary()\n",
    "\n",
    "# Create the generator\n",
    "latent_dim = 128\n",
    "generator = keras.Sequential(\n",
    "    [\n",
    "        keras.Input(shape = (latent_dim,)),\n",
    "        layers.Dense(7*7*128),\n",
    "        layers.BatchNormalization(),\n",
    "        layers.LeakyReLU(alpha = 0.2),\n",
    "        layers.Reshape((7, 7, 128)),\n",
    "\n",
    "        layers.Conv2DTranspose(128, (4, 4), strides = 2, padding = \"same\"),\n",
    "        layers.BatchNormalization(),\n",
    "        layers.LeakyReLU(alpha = 0.2),\n",
    "\n",
    "        layers.Conv2DTranspose(128, (4, 4), strides = 2, padding = \"same\"),\n",
    "        layers.BatchNormalization(),\n",
    "        layers.LeakyReLU(alpha = 0.2),\n",
    "        layers.Conv2D(1, (7, 7), padding = \"same\", activation = \"sigmoid\"),\n",
    "    ],\n",
    "    name=\"generator\",\n",
    ")\n",
    "\n",
    "generator.summary()"
   ]
  },
  {
   "cell_type": "code",
   "execution_count": 245,
   "metadata": {},
   "outputs": [],
   "source": [
    "# basic GAN architecture and training logic\n",
    "\n",
    "class GAN(keras.Model):\n",
    "    def __init__(self, discriminator, generator, latent_dim):\n",
    "        super().__init__()\n",
    "        self.discriminator = discriminator \n",
    "        self.generator = generator\n",
    "        self.latent_dim = latent_dim \n",
    "        self.d_loss_tracker = keras.metrics.Mean(name = 'd_loss')\n",
    "        self.g_loss_tracker = keras.metrics.Mean(name = 'g_loss')\n",
    "\n",
    "    def compile(self, d_optimizer, g_optimizer, d_loss_fn, g_loss_fn):\n",
    "        super().compile()\n",
    "        self.d_optimizer = d_optimizer\n",
    "        self.g_optimizer = g_optimizer\n",
    "        self.d_loss_fn = d_loss_fn \n",
    "        self.g_loss_fn = g_loss_fn \n",
    "\n",
    "    def train_step(self, real_images):\n",
    "        if isinstance(real_images, tuple):\n",
    "            real_images = real_images[0]\n",
    "        \n",
    "        batch_size = tf.shape(real_images)[0]\n",
    "        \n",
    "        # sample vectors from latent space\n",
    "        random_latent_vectors = tf.random.normal(shape = (batch_size, self.latent_dim))\n",
    "        \n",
    "        # decode latent vector samples to 'fake' images\n",
    "        generated_images = self.generator(random_latent_vectors)\n",
    "        \n",
    "        # concatenate with real images\n",
    "        combined_images = tf.concat([generated_images, real_images], axis = 0)\n",
    "\n",
    "        # implement labels, fake = 1, real = 0\n",
    "        labels = tf.concat([tf.ones((batch_size, 1)), tf.zeros((batch_size, 1))], axis = 0)\n",
    "\n",
    "        # add noise to labels, helps stablize GAN during training, prevents mode collapse and overfitting\n",
    "        labels += 0.05 * tf.random.uniform(tf.shape(labels))\n",
    "\n",
    "        # TRAIN THE DISCRIMINATOR\n",
    "        \n",
    "        with tf.GradientTape() as tape:\n",
    "            predictions = self.discriminator(combined_images)\n",
    "            d_loss = self.d_loss_fn(labels, predictions)\n",
    "        \n",
    "        grads = tape.gradient(d_loss, self.discriminator.trainable_weights)\n",
    "        self.d_optimizer.apply_gradients(zip(grads, self.discriminator.trainable_weights))\n",
    "\n",
    "        # TRAIN THE GENERATOR \n",
    "\n",
    "        # new sample vectors from latent space\n",
    "        random_latent_vectors = tf.random.normal(shape = (batch_size, self.latent_dim))\n",
    "\n",
    "        # create misleading labels, we want the discriminator to classify the generator as real = 0\n",
    "        misleading_labels = tf.zeros((batch_size, 1))\n",
    "\n",
    "        # gradients \n",
    "        with tf.GradientTape() as tape:\n",
    "            predictions = self.discriminator(self.generator(random_latent_vectors))\n",
    "            g_loss = self.g_loss_fn(misleading_labels, predictions)\n",
    "\n",
    "        grads = tape.gradient(g_loss, self.generator.trainable_weights)\n",
    "        self.g_optimizer.apply_gradients(zip(grads, self.generator.trainable_weights))\n",
    "\n",
    "        # update state of trackers\n",
    "        self.d_loss_tracker.update_state(d_loss)\n",
    "        self.g_loss_tracker.update_state(g_loss)\n",
    "\n",
    "        return {\n",
    "            'd_loss': self.d_loss_tracker.result(),\n",
    "            'g_loss': self.g_loss_tracker.result()\n",
    "        }\n"
   ]
  },
  {
   "cell_type": "code",
   "execution_count": 253,
   "metadata": {},
   "outputs": [],
   "source": [
    "# initialize GAN and compile\n",
    "\n",
    "gan = GAN(discriminator = discriminator, generator = generator, latent_dim = latent_dim)\n",
    "gan.compile(\n",
    "    d_optimizer=keras.optimizers.Adam(learning_rate=0.0003),\n",
    "    g_optimizer=keras.optimizers.Adam(learning_rate=0.0003),\n",
    "    d_loss_fn=keras.losses.BinaryCrossentropy(from_logits=True),\n",
    "    g_loss_fn=keras.losses.BinaryCrossentropy(from_logits=True),\n",
    ")"
   ]
  },
  {
   "cell_type": "code",
   "execution_count": 265,
   "metadata": {},
   "outputs": [
    {
     "name": "stdout",
     "output_type": "stream",
     "text": [
      "Epoch 1/2\n",
      "547/547 [==============================] - 712s 1s/step - d_loss: 0.5961 - g_loss: 1.0687\n",
      "Epoch 2/2\n",
      " 38/547 [=>............................] - ETA: 10:55 - d_loss: 0.6573 - g_loss: 1.0176"
     ]
    }
   ],
   "source": [
    "epochs = 2\n",
    "\n",
    "gan.fit(dataset, epochs = epochs)"
   ]
  },
  {
   "cell_type": "code",
   "execution_count": 264,
   "metadata": {},
   "outputs": [
    {
     "data": {
      "image/png": "[encoded data removed]",
      "text/plain": [
       "<Figure size 1080x576 with 32 Axes>"
      ]
     },
     "metadata": {
      "needs_background": "light"
     },
     "output_type": "display_data"
    }
   ],
   "source": [
    "# generate random digits\n",
    "\n",
    "scale = 1\n",
    "length = 0\n",
    "\n",
    "plt.figure(figsize=(15,8))\n",
    "for i in range(32): \n",
    "  z = []\n",
    "  for j in range(latent_dim):\n",
    "    z.append(np.random.normal(loc = 0, scale = scale))\n",
    "\n",
    "  ax = plt.subplot(4, 8, i + 1)\n",
    "  z_vector_sampled = np.array([z])\n",
    "  generated = generator.predict(z_vector_sampled, verbose = False)\n",
    "  image = (generated[0].reshape(28,28)+1)/2\n",
    "  plt.imshow(image, cmap = 'gray')\n",
    "  plt.axis(\"off\")"
   ]
  }
 ],
 "metadata": {
  "kernelspec": {
   "display_name": "base",
   "language": "python",
   "name": "python3"
  },
  "language_info": {
   "codemirror_mode": {
    "name": "ipython",
    "version": 3
   },
   "file_extension": ".py",
   "mimetype": "text/x-python",
   "name": "python",
   "nbconvert_exporter": "python",
   "pygments_lexer": "ipython3",
   "version": "3.8.3"
  },
  "orig_nbformat": 4,
  "vscode": {
   "interpreter": {
    "hash": "40d3a090f54c6569ab1632332b64b2c03c39dcf918b08424e98f38b5ae0af88f"
   }
  }
 },
 "nbformat": 4,
 "nbformat_minor": 2
}
